{
 "cells": [
  {
   "cell_type": "code",
   "execution_count": 13,
   "metadata": {},
   "outputs": [
    {
     "data": {
      "text/plain": [
       "1"
      ]
     },
     "execution_count": 13,
     "metadata": {},
     "output_type": "execute_result"
    }
   ],
   "source": [
    "import numpy as np\n",
    "import matplotlib.pyplot as plt\n",
    "import math\n",
    "\n",
    "def get_opinion_from_random_person():\n",
    "    # Usually this probabiliy is not known. Setting it here for simulation purposes.\n",
    "    probability_of_alice_win = 0.53\n",
    "    return np.random.binomial(\n",
    "        n = 1,\n",
    "        p = probability_of_alice_win)\n",
    "\n",
    "get_opinion_from_random_person()"
   ]
  },
  {
   "cell_type": "code",
   "execution_count": 14,
   "metadata": {},
   "outputs": [],
   "source": [
    "# def get_sample_from_distribution(n):\n",
    "#     \"\"\"\n",
    "#     Creates an array of size n.\n",
    "#     Each value will be 1 if some person would vote on Alice and\n",
    "#     0 if he would vote on Bob.\n",
    "#     \"\"\"\n",
    "#     sample_opinions = []\n",
    "#     for i in range(n):\n",
    "#         sample_opinions.append(get_opinion_from_random_person())\n",
    "    \n",
    "#     return sample_opinions\n",
    "\n",
    "# example = get_sample_from_distribution(100)\n",
    "# print(example)"
   ]
  },
  {
   "cell_type": "code",
   "execution_count": 15,
   "metadata": {},
   "outputs": [],
   "source": [
    "# def get_n_samples_from_distribution(samples_number, sample_size):\n",
    "#     \"\"\"\n",
    "#     Get multiple samples from our target 'unknown distribution'.\n",
    "#     \"\"\"\n",
    "#     people_per_day = [sample_size] * samples_number\n",
    "#     week_samples = list(map(get_sample_from_distribution, people_per_day))\n",
    "#     return week_samples\n",
    "\n",
    "# def get_n_sample_means_from_distribution(samples_number, sample_size):\n",
    "#     samples = get_n_samples_from_distribution(\n",
    "#         samples_number = samples_number,\n",
    "#         sample_size = sample_size)\n",
    "\n",
    "#     return list(map(np.mean, samples))\n",
    "\n",
    "# sample_means = get_n_sample_means_from_distribution(5, 100)\n",
    "# print(sample_means)"
   ]
  },
  {
   "cell_type": "code",
   "execution_count": 16,
   "metadata": {},
   "outputs": [],
   "source": [
    "# fig, axes = plt.subplots(2,3, figsize = (12, 8))\n",
    "# fig.subplots_adjust(hspace=0.4, wspace=0.3)\n",
    "# axes = axes.ravel()\n",
    "\n",
    "# days = [5, 50, 500, 1000]\n",
    "# for i in range(len(days)):\n",
    "#     sample_means = get_n_sample_means_from_distribution(\n",
    "#         samples_number = days[i],\n",
    "#         sample_size = 100)    \n",
    "#     axes[i].hist(sample_means, bins=30)\n",
    "#     axes[i].set_title(\"{0} days\".format(days[i]))"
   ]
  },
  {
   "cell_type": "code",
   "execution_count": 17,
   "metadata": {},
   "outputs": [],
   "source": [
    "from math import factorial\n",
    "from math import log\n",
    "import matplotlib.pyplot as plt\n",
    "import random\n",
    "import itertools\n",
    "import collections\n",
    "import csv"
   ]
  },
  {
   "cell_type": "code",
   "execution_count": 18,
   "metadata": {},
   "outputs": [],
   "source": [
    "candidate_ranking = {}\n",
    "candidate_ranking[1] = 'Aditya'\n",
    "candidate_ranking[2] = 'Amrish'\n",
    "candidate_ranking[3] = 'Sayan'\n",
    "candidate_ranking[4] = 'Jayadev'\n",
    "candidate_ranking[5] = 'Hardeep'\n",
    "candidate_ranking[6] = 'Vishal'\n",
    "candidate_ranking[7] = 'Vishesh'\n",
    "candidate_ranking[8] = 'Somy'\n",
    "candidate_ranking[9] = 'Sachin'\n",
    "candidate_ranking[10] = 'Govind'"
   ]
  },
  {
   "cell_type": "code",
   "execution_count": 19,
   "metadata": {},
   "outputs": [],
   "source": [
    "def cond_1(epsilon, m):\n",
    "#     print(epsilon, m)\n",
    "    return (2*epsilon)/factorial(m-1) + (1-epsilon)/factorial(m)\n",
    "\n",
    "def cond_2(epsilon, m):\n",
    "#     print(epsilon, m)\n",
    "    return (1-epsilon)/factorial(m)"
   ]
  },
  {
   "cell_type": "code",
   "execution_count": 20,
   "metadata": {},
   "outputs": [],
   "source": [
    "def borda_upper_bound(epsilon, delta, m):\n",
    "    return (9/(2*(epsilon**2)))*(log((2*m)/delta))"
   ]
  },
  {
   "cell_type": "code",
   "execution_count": 21,
   "metadata": {},
   "outputs": [],
   "source": [
    "def mu(epsilon, no_of_candidate, candidate):\n",
    "    top_m_2 = int(no_of_candidate/2)\n",
    "\n",
    "    for key in candidate_ranking.keys():\n",
    "        if(candidate_ranking[key] == candidate):\n",
    "#             print(key)\n",
    "#             print(top_m_2)\n",
    "            if key >= top_m_2:\n",
    "                temp  = cond_1(epsilon, no_of_candidate)\n",
    "            else:\n",
    "                temp = cond_2(epsilon, no_of_candidate)\n",
    "    \n",
    "    return temp"
   ]
  },
  {
   "cell_type": "code",
   "execution_count": 22,
   "metadata": {},
   "outputs": [
    {
     "name": "stdout",
     "output_type": "stream",
     "text": [
      ":  epsilon value\t0.1\n",
      ":  No of Candidates\t10\n",
      ": delta value\t0.5\n",
      "Epsilon value No_of_candidates delta value\n",
      "0.1 \t\t 10 \t\t 0.5\n"
     ]
    }
   ],
   "source": [
    "epsilon    = float(input(\":  epsilon value\\t\"))\n",
    "no_of_candidate  = int(input(\":  No of Candidates\\t\"))\n",
    "delta = float(input(\": delta value\\t\"))\n",
    "# candidate = str(input(\": Name of Candidate\\t\"))\n",
    "candidate = 'Sayan'\n",
    "\n",
    "print(\"Epsilon value\" , \"No_of_candidates\", \"delta value\")\n",
    "print (epsilon,\"\\t\\t\", no_of_candidate, \"\\t\\t\", delta)\n",
    "\n",
    "# print(\"Name of Candidate\")\n",
    "# print(candidate)"
   ]
  },
  {
   "cell_type": "code",
   "execution_count": 23,
   "metadata": {},
   "outputs": [
    {
     "name": "stdout",
     "output_type": "stream",
     "text": [
      "Mu Value: \t\t 2.48015873015873e-07\n",
      "Borda Upper Bound: \t\t 1659.995754351271\n"
     ]
    }
   ],
   "source": [
    "print(\"Mu Value: \\t\\t\", mu(epsilon, no_of_candidate, candidate))\n",
    "print(\"Borda Upper Bound: \\t\\t\", borda_upper_bound(epsilon, delta, no_of_candidate))\n",
    "borda_max = int(borda_upper_bound(epsilon, delta, no_of_candidate))"
   ]
  },
  {
   "cell_type": "code",
   "execution_count": 35,
   "metadata": {},
   "outputs": [
    {
     "name": "stdout",
     "output_type": "stream",
     "text": [
      "79916\n"
     ]
    }
   ],
   "source": [
    "V = []\n",
    "W = []\n",
    "candidate_pref = []\n",
    "list_candidate_pref =[]\n",
    "votes = int(10e3)\n",
    "large = 10e10\n",
    "newMu = large * mu(epsilon, no_of_candidate, candidate)\n",
    "newMu = int(newMu)\n",
    "print(newMu)\n",
    "\n",
    "list_values = [ v for v in candidate_ranking.values() ]\n",
    "for i in range(newMu):\n",
    "    V.append(list_values)\n",
    "\n",
    "for i in range(votes):\n",
    "    randomPick = random.sample(V,1)\n",
    "#     print(randomPick[0])\n",
    "    W.append(random.sample(randomPick[0], len(randomPick[0])))\n",
    "#     W.append(randomPick[0])\n",
    "#     print(randomPick)\n",
    "\n",
    "# for key in candidate_ranking.keys():\n",
    "#     candidate_pref.append(candidate_ranking[key])\n",
    "    \n",
    "\n",
    "\n",
    "with open(\"W.csv\", \"w\", newline=\"\") as f:\n",
    "    writer = csv.writer(f)\n",
    "    writer.writerows(W)\n",
    "    \n",
    "with open(\"V.csv\", \"w\", newline=\"\") as f:\n",
    "    writer = csv.writer(f)\n",
    "    writer.writerows(V)"
   ]
  },
  {
   "cell_type": "code",
   "execution_count": 25,
   "metadata": {},
   "outputs": [],
   "source": [
    "# import itertools\n",
    "# import collections\n",
    "\n",
    "# def borda(ballot):\n",
    "#     n = len([c for c in ballot if c.isalpha()]) - 1\n",
    "#     score = itertools.count(n, step = -1)\n",
    "#     result = {}\n",
    "#     for group in [item.split('=') for item in ballot.split('>')]:\n",
    "#         s = sum(next(score) for item in group)/float(len(group))\n",
    "#         for pref in group:\n",
    "#             result[pref] = s\n",
    "#     return result\n",
    "\n",
    "# def tally(ballots):\n",
    "#     result = collections.defaultdict(int)\n",
    "#     for ballot in ballots:\n",
    "#         for pref,score in borda(ballot).iteritems():\n",
    "#             result[pref]+=score\n",
    "#     result = dict(result)\n",
    "#     return result\n",
    "\n",
    "# ballots = ['A>B>C>D>E',\n",
    "#            'A>B>C=D=E',\n",
    "#            'A>B=C>D>E', \n",
    "#            ]\n",
    "\n",
    "# print(tally(ballots))"
   ]
  },
  {
   "cell_type": "code",
   "execution_count": 26,
   "metadata": {},
   "outputs": [],
   "source": [
    "# valentine.votes([[clark, calisto, calvin]])\n",
    "\n",
    "# # calisto\n",
    "# veronica.votes([[clark, calvin, calisto]])\n",
    "# who_is_superman.get_winner() is clark"
   ]
  },
  {
   "cell_type": "code",
   "execution_count": 27,
   "metadata": {},
   "outputs": [],
   "source": [
    "# ballots = ['A>B>C>D>E',\n",
    "#            'A>B>C=D=E',\n",
    "#            'A>B=C>D>E',]\n",
    "# result = collections.defaultdict(int)\n",
    "# for ballot in ballots:\n",
    "# #     print(ballot)\n",
    "#     for pref,score in borda(ballot).iteritems():\n",
    "#         pass\n",
    "# #         result[pref]+=score\n",
    "# # result = dict(result)"
   ]
  },
  {
   "cell_type": "code",
   "execution_count": 28,
   "metadata": {},
   "outputs": [
    {
     "name": "stdout",
     "output_type": "stream",
     "text": [
      "Mu for Aditya:\t \t 2.232142857142857e-05\n",
      "Mu for Amrish:\t \t 2.232142857142857e-05\n",
      "Mu for Sayan:\t \t 2.232142857142857e-05\n",
      "Mu for Jayadev:\t \t 6.200396825396825e-05\n",
      "Mu for Hardeep:\t \t 6.200396825396825e-05\n",
      "Mu for Vishal:\t \t 6.200396825396825e-05\n",
      "Mu for Vishesh:\t \t 6.200396825396825e-05\n",
      "Mu for Somy:\t \t 6.200396825396825e-05\n",
      "Mu for Sachin:\t \t 6.200396825396825e-05\n",
      "Mu for Govind:\t \t 6.200396825396825e-05\n"
     ]
    }
   ],
   "source": [
    "for key in candidate_ranking.keys():\n",
    "    candidate = candidate_ranking[key]\n",
    "    candidate_mu = mu(epsilon, 8, candidate)\n",
    "    print(\"Mu for {}:\\t \\t {}\".format(candidate, candidate_mu))"
   ]
  },
  {
   "cell_type": "code",
   "execution_count": 29,
   "metadata": {},
   "outputs": [],
   "source": [
    "# def plot_graph(x_axis, y_axis, x, y, x_step, y_step, title):\n",
    "#     # plotting the points \n",
    "#     plt.plot(x, y, color='green', linestyle='dashed', linewidth = 3,marker='o', markerfacecolor='blue', markersize=12) \n",
    "\n",
    "#     # setting x and y axis range \n",
    "#     plt.ylim(1,8) \n",
    "#     plt.xlim(1,8) \n",
    "\n",
    "#     # naming the axis \n",
    "#     plt.xlabel(x_axis) \n",
    "#     plt.ylabel(y_axis)\n",
    "#     plt.title('Confidence value Vs No. of iterations') \n",
    "#     plt.show()"
   ]
  },
  {
   "cell_type": "code",
   "execution_count": 30,
   "metadata": {},
   "outputs": [
    {
     "data": {
      "image/png": "[encoded data removed]",
      "text/plain": [
       "<Figure size 432x288 with 1 Axes>"
      ]
     },
     "metadata": {
      "needs_background": "light"
     },
     "output_type": "display_data"
    }
   ],
   "source": [
    "start = 1\n",
    "end = 20\n",
    "step = 3\n",
    "x = []\n",
    "y = []\n",
    "x_axis = \"Iteration of Bora value\"\n",
    "\n",
    "# double_quote_character = \"b\"\n",
    "y_axis = 'confidence-value'\n",
    "\n",
    "# x axis values\n",
    "for i in range(start, end, step):\n",
    "    x.append(i)\n",
    "\n",
    "for j in range(start, end, step):\n",
    "    y.append(j)\n",
    "\n",
    "# x = [1,2,3,4,5,6] \n",
    "# # corresponding y axis values \n",
    "# y = [2,4,1,5,2,6] \n",
    "\n",
    "# plotting the points \n",
    "plt.plot(x, y, color='green', linestyle='dashed', linewidth = 3,marker='o', markerfacecolor='blue', markersize=12) \n",
    "\n",
    "# setting x and y axis range \n",
    "plt.ylim(1,8) \n",
    "plt.xlim(1,8) \n",
    "\n",
    "# naming the x axis \n",
    "plt.xlabel(x_axis) \n",
    "# naming the y axis \n",
    "plt.ylabel(y_axis) \n",
    "\n",
    "# giving a title to my graph \n",
    "plt.title('Confidence value Vs No. of iterations') \n",
    "\n",
    "# function to show the plot \n",
    "plt.show() \n"
   ]
  },
  {
   "cell_type": "code",
   "execution_count": null,
   "metadata": {},
   "outputs": [],
   "source": []
  }
 ],
 "metadata": {
  "kernelspec": {
   "display_name": "Python 3",
   "language": "python",
   "name": "python3"
  },
  "language_info": {
   "codemirror_mode": {
    "name": "ipython",
    "version": 3
   },
   "file_extension": ".py",
   "mimetype": "text/x-python",
   "name": "python",
   "nbconvert_exporter": "python",
   "pygments_lexer": "ipython3",
   "version": "3.7.4"
  }
 },
 "nbformat": 4,
 "nbformat_minor": 2
}
