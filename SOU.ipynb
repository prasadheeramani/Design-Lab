{
 "cells": [
  {
   "cell_type": "code",
   "execution_count": 8,
   "metadata": {},
   "outputs": [],
   "source": [
    "import numpy as np\n",
    "import pandas as pd\n",
    "\n",
    "# import collections\n"
   ]
  },
  {
   "cell_type": "code",
   "execution_count": 11,
   "metadata": {},
   "outputs": [],
   "source": [
    "from collections import defaultdict\n",
    "class CheckIndependence:\n",
    "    \n",
    "    def __init__(self):\n",
    "        self.version = 1\n",
    "        \n",
    "    def check_independence(self, tb: pd.DataFrame):\n",
    "        def is_independent():\n",
    "            px, py = collections.defaultdict(int), collections.defaultdict(int)\n",
    "            for idx in range(len(distr_table)):\n",
    "                px[tb.loc[idx, 'X']] += tb.loc[idx, 'pr']\n",
    "                py[tb.loc[idx, 'Y']] += tb.loc[idx, 'pr']\n",
    "            for idx in range(len(tb)):\n",
    "                if abs(tb.loc[idx, 'pr'] - px[tb.loc[idx, 'X']] * py[tb.loc[idx, 'Y']]) > 0.001:\n",
    "                    return False\n",
    "            return True\n",
    "        def getCov():\n",
    "            mux, muy = getMu()\n",
    "            cov = 0\n",
    "            for idx in range(len(tb)):\n",
    "                cov += tb.loc[idx, 'pr'] * (tb.loc[idx, 'X'] - mux) * (tb.loc[idx, 'Y'] - muy)\n",
    "            return cov\n",
    "        def getMu():\n",
    "            mux, muy = 0, 0\n",
    "            for idx in range(len(tb)):\n",
    "                mux += tb.loc[idx, 'X'] * tb.loc[idx, 'pr']\n",
    "                muy += tb.loc[idx, 'Y'] * tb.loc[idx, 'pr']\n",
    "            return mux, muy\n",
    "        def getSigma():\n",
    "            mux, muy = getMu()\n",
    "            s2x, s2y = 0, 0\n",
    "            for idx in range(len(tb)):\n",
    "                s2x += tb.loc[idx, 'pr'] * ((tb.loc[idx, 'X'] - mux)**2)\n",
    "                s2y += tb.loc[idx, 'pr'] * ((tb.loc[idx, 'Y'] - muy)**2)\n",
    "            return s2x**0.5, s2y**0.5\n",
    "        def getCorr():\n",
    "            cov = getCov()\n",
    "            sx, sy = getSigma()\n",
    "            return cov / (sx * sy)\n",
    "        areind, cov, corr = is_independent(), getCov(), getCorr()\n",
    "        return {'are_independent': areind, 'cov': cov, 'corr': corr}"
   ]
  },
  {
   "cell_type": "code",
   "execution_count": 12,
   "metadata": {},
   "outputs": [
    {
     "data": {
      "text/plain": [
       "{'are_independent': False, 'cov': 0.0525, 'corr': 0.21212121212121213}"
      ]
     },
     "execution_count": 12,
     "metadata": {},
     "output_type": "execute_result"
    }
   ],
   "source": [
    "distr_table = pd.DataFrame({\n",
    "    'X':[0,0,1,1],\n",
    "    'Y':[1,2,1,2],\n",
    "    'pr':[0.3,0.25,0.15,0.3]\n",
    "})\n",
    "\n",
    "# distr_table = pd.DataFrame({\n",
    "#     'X':[0,1,2,3],\n",
    "#     'Y':[1,2,1,2],\n",
    "#     'pr':[0.3,0.25,0.15,0.3]\n",
    "# })\n",
    "\n",
    "call = CheckIndependence();\n",
    "call.check_independence(distr_table)"
   ]
  },
  {
   "cell_type": "code",
   "execution_count": null,
   "metadata": {},
   "outputs": [],
   "source": []
  },
  {
   "cell_type": "code",
   "execution_count": null,
   "metadata": {},
   "outputs": [],
   "source": []
  }
 ],
 "metadata": {
  "kernelspec": {
   "display_name": "Python 3",
   "language": "python",
   "name": "python3"
  },
  "language_info": {
   "codemirror_mode": {
    "name": "ipython",
    "version": 3
   },
   "file_extension": ".py",
   "mimetype": "text/x-python",
   "name": "python",
   "nbconvert_exporter": "python",
   "pygments_lexer": "ipython3",
   "version": "3.7.4"
  }
 },
 "nbformat": 4,
 "nbformat_minor": 2
}
